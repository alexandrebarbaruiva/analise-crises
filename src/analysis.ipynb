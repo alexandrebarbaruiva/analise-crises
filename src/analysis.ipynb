{
 "cells": [
  {
   "cell_type": "markdown",
   "metadata": {},
   "source": [
    "# Análise de Crises\n"
   ]
  },
  {
   "cell_type": "markdown",
   "metadata": {},
   "source": [
    "\n",
    "## O que são crises?\n",
    "\n",
    "Uma crise é uma mudança brusca ou uma alteração importante no desenvolvimento de um qualquer evento/acontecimento. Essas alterações podem ser físicas ou simbólicas. Crise também é uma situação complicada ou de escassez.\n",
    "\n",
    "- Hídrica\n",
    "- Energética\n",
    "- Social\n",
    "- Industrial\n",
    "- Psicológica\n",
    "- Emocional\n",
    "- etc..."
   ]
  },
  {
   "cell_type": "markdown",
   "metadata": {},
   "source": [
    "## Quais conjuntos de tags do OSM podem ser usadas para modelar quais tipos de crise?\n",
    "\n",
    "Crise alimentar: {amenities: sustenance}, {building: comercial}\n",
    "\n",
    "### Tags disponíveis no OSM\n",
    "\n",
    "https://wiki.openstreetmap.org/wiki/Map_features#Natural\n",
    "\n",
    "Exemplo \n",
    "- nature: tree\n",
    "- amenity: hospital\n",
    "\n",
    "### Exemplo exploratório\n",
    "\n",
    "Por que houve aumento de alagamentos na Asa Norte, Brasília de 2015 a 2020?\n",
    "Possibilidades: \n",
    "- Quantidade de árvores na Asa Norte e/ou Noroeste diminuiu consideravelmente\n",
    "- Quantidade de área verde na Asa Norte e/ou Noroeste diminuiu consideravelmente\n",
    "- Quantidade de asfalto na Asa Norte e/ou Noroeste aumentou consideravelmente\n",
    "- Quantidade de área não escoável na Asa Norte e/ou Noroeste aumentou consideravelmente\n",
    "Tags a buscar: "
   ]
  },
  {
   "cell_type": "code",
   "execution_count": 1,
   "metadata": {},
   "outputs": [],
   "source": [
    "# Initial imports\n",
    "from OSMPythonTools.nominatim import Nominatim\n",
    "from OSMPythonTools.overpass import overpassQueryBuilder, Overpass"
   ]
  },
  {
   "cell_type": "code",
   "execution_count": 2,
   "metadata": {},
   "outputs": [],
   "source": [
    "# Download area data\n",
    "nominatim = Nominatim()\n",
    "areaId = nominatim.query(\"Brasília, Brasil\").areaId()"
   ]
  },
  {
   "cell_type": "code",
   "execution_count": 3,
   "metadata": {},
   "outputs": [
    {
     "data": {
      "text/plain": [
       "390068"
      ]
     },
     "execution_count": 3,
     "metadata": {},
     "output_type": "execute_result"
    }
   ],
   "source": [
    "overpass = Overpass()\n",
    "query = overpassQueryBuilder(\n",
    "    area=areaId, elementType=\"node\", selector='\"natural\"=\"tree\"', out=\"count\"\n",
    ")\n",
    "result = overpass.query(query, timeout=5000)\n",
    "result.countElements()"
   ]
  },
  {
   "cell_type": "markdown",
   "metadata": {},
   "source": [
    "## Ferramentas a disposição\n",
    "\n",
    "- [OSMPythonTools](https://wiki.openstreetmap.org/wiki/OSMPythonTools)\n",
    "- [ArcGIS](https://developers.arcgis.com/python/samples/openstreetmap-exploration/)\n",
    "- [Overpass API](https://dev.overpass-api.de/overpass-doc/en/)\n",
    "- [Overpass 2](https://towardsdatascience.com/loading-data-from-openstreetmap-with-python-and-the-overpass-api-513882a27fd0)"
   ]
  },
  {
   "cell_type": "markdown",
   "metadata": {},
   "source": [
    "## Definições\n",
    "\n",
    "[Tags](https://wiki.openstreetmap.org/wiki/Tags) - A tag consists of two items, a key and a value. Tags describe specific features of map elements (nodes, ways, or relations) or changesets.\n",
    "[OSM](https://www.openstreetmap.org/) - Open Street Map\n",
    "[AVS](http://ivs.ipea.gov.br/index.php/pt/) - Atlas de Vulnerabilidade Social do IPEA"
   ]
  },
  {
   "cell_type": "code",
   "execution_count": null,
   "metadata": {},
   "outputs": [],
   "source": []
  }
 ],
 "metadata": {
  "kernelspec": {
   "display_name": "Python 3.9.5 ('analise-crises-Rk2CfX_Y-py3.9')",
   "language": "python",
   "name": "python3"
  },
  "language_info": {
   "codemirror_mode": {
    "name": "ipython",
    "version": 3
   },
   "file_extension": ".py",
   "mimetype": "text/x-python",
   "name": "python",
   "nbconvert_exporter": "python",
   "pygments_lexer": "ipython3",
   "version": "3.9.5"
  },
  "orig_nbformat": 4,
  "vscode": {
   "interpreter": {
    "hash": "f5ca5c254f3296b8edf5c403228530bad8eaacc0ebd30dccec9a16dcde283e4f"
   }
  }
 },
 "nbformat": 4,
 "nbformat_minor": 2
}
